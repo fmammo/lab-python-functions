{
 "cells": [
  {
   "cell_type": "markdown",
   "metadata": {},
   "source": [
    "# Lab | Functions"
   ]
  },
  {
   "cell_type": "markdown",
   "metadata": {
    "tags": []
   },
   "source": [
    "## Exercise: Managing Customer Orders with Functions\n",
    "\n",
    "In the previous exercise, you improved the code for managing customer orders by using loops and flow control. Now, let's take it a step further and refactor the code by introducing functions.\n",
    "\n",
    "Follow the steps below to complete the exercise:\n",
    "\n",
    "1. Define a function named `initialize_inventory` that takes `products` as a parameter. Inside the function, implement the code for initializing the inventory dictionary using a loop and user input.\n",
    "\n",
    "2. Define a function named `get_customer_orders` that takes no parameters. Inside the function, implement the code for prompting the user to enter the product names using a loop. The function should return the `customer_orders` set.\n",
    "\n",
    "3. Define a function named `update_inventory` that takes `customer_orders` and `inventory` as parameters. Inside the function, implement the code for updating the inventory dictionary based on the customer orders.\n",
    "\n",
    "4. Define a function named `calculate_order_statistics` that takes `customer_orders` and `products` as parameters. Inside the function, implement the code for calculating the order statistics (total products ordered, and percentage of unique products ordered). The function should return these values.\n",
    "\n",
    "5. Define a function named `print_order_statistics` that takes `order_statistics` as a parameter. Inside the function, implement the code for printing the order statistics.\n",
    "\n",
    "6. Define a function named `print_updated_inventory` that takes `inventory` as a parameter. Inside the function, implement the code for printing the updated inventory.\n",
    "\n",
    "7. Call the functions in the appropriate sequence to execute the program and manage customer orders.\n",
    "\n",
    "Hints for functions:\n",
    "\n",
    "- Consider the input parameters required for each function and their return values.\n",
    "- Utilize function parameters and return values to transfer data between functions.\n",
    "- Test your functions individually to ensure they work correctly.\n",
    "\n",
    "\n"
   ]
  },
  {
   "cell_type": "markdown",
   "metadata": {},
   "source": [
    "## Solution"
   ]
  },
  {
   "cell_type": "code",
   "execution_count": 1,
   "metadata": {},
   "outputs": [],
   "source": [
    "# Initializing a dictionary called \"inventory\"\n",
    "products = [\"t-shirt\", \"mug\", \"hat\", \"book\", \"keychain\"]\n",
    "inventory = {}\n",
    "\n",
    "def initialize_inventory(products):\n",
    "    user_quanti = []\n",
    "    i = 1\n",
    "    while i < 6:\n",
    "        for item in products:\n",
    "            print(item)\n",
    "            quanti = input(\"please eneter the quantity: \")\n",
    "            user_quanti.append(quanti)\n",
    "        break\n",
    "        \n",
    "    inventory = {}\n",
    "    for key in products:\n",
    "        for value in user_quanti:\n",
    "            inventory[key] = value\n",
    "    print()\n",
    "            \n",
    "    print(\"Value stored in inventory is: \", inventory)\n",
    "    "
   ]
  },
  {
   "cell_type": "code",
   "execution_count": 2,
   "metadata": {},
   "outputs": [
    {
     "name": "stdout",
     "output_type": "stream",
     "text": [
      "t-shirt\n",
      "please eneter the quantity: 12\n",
      "mug\n",
      "please eneter the quantity: 23\n",
      "hat\n",
      "please eneter the quantity: 45\n",
      "book\n",
      "please eneter the quantity: 56\n",
      "keychain\n",
      "please eneter the quantity: 67\n",
      "\n",
      "Value stored in inventory is:  {'t-shirt': '67', 'mug': '67', 'hat': '67', 'book': '67', 'keychain': '67'}\n"
     ]
    }
   ],
   "source": [
    "# Calling the function\n",
    "initialize_inventory(products)"
   ]
  },
  {
   "cell_type": "code",
   "execution_count": 3,
   "metadata": {},
   "outputs": [
    {
     "name": "stdout",
     "output_type": "stream",
     "text": [
      "t-shirt\n",
      "Please enter the quantity for the above product: 1\n",
      "mug\n",
      "Please enter the quantity for the above product: 2\n",
      "hat\n",
      "Please enter the quantity for the above product: 3\n",
      "book\n",
      "Please enter the quantity for the above product: 4\n",
      "keychain\n",
      "Please enter the quantity for the above product: 5\n"
     ]
    }
   ],
   "source": [
    "# updating the dictionary \"inventory\" based on customers value input of products\n",
    "customer_orders = []\n",
    "products = [\"t-shirt\", \"mug\", \"hat\", \"book\", \"keychain\"]\n",
    "for item in range(len(products)):\n",
    "    print(products[item])\n",
    "    input_ = int(input(\"Please enter the quantity for the above product: \"))\n",
    "    customer_orders.append(input_)\n",
    "    \n",
    "        \n",
    "def update_inventory(products,customer_orders):\n",
    "    inventory = {}\n",
    "    \n",
    "    for products,customer_orders in zip(products, customer_orders):\n",
    "        inventory[products] = customer_orders\n",
    "    \n",
    "        \n",
    "    print(\"The customer orders: \", inventory)"
   ]
  },
  {
   "cell_type": "code",
   "execution_count": 4,
   "metadata": {},
   "outputs": [
    {
     "name": "stdout",
     "output_type": "stream",
     "text": [
      "The customer orders:  {'t-shirt': 1, 'mug': 2, 'hat': 3, 'book': 4, 'keychain': 5}\n"
     ]
    }
   ],
   "source": [
    "# Calling the function\n",
    "update_inventory(products,customer_orders)"
   ]
  },
  {
   "cell_type": "code",
   "execution_count": 20,
   "metadata": {},
   "outputs": [],
   "source": [
    "# Prompting a customer to enter the product of their choice\n",
    "def get_customer_orders():\n",
    "    customer_order = []\n",
    "    ask = \"yes\"\n",
    "    while ask != \"no\":\n",
    "        cust_input = input(\"What product would you like to order?: \")\n",
    "        customer_order.append(cust_input)\n",
    "        ask = input(\"Would you like to continue your order?, 'yes/no': \")\n",
    "    print()\n",
    "    print(\"Thanks for your order, we will process your order as soon as possible.\")\n",
    "    \n",
    "    print()\n",
    "    \n",
    "    customer_orders = set(customer_order)\n",
    "    print(\"Customer orders data is: \", customer_orders)\n",
    "    \n",
    "    \n",
    "    \n",
    "# Calculate the statstics of the products ordered by the customer  \n",
    "def calculate_order_statistics(customer_orders,products):\n",
    "    customer_order = []\n",
    "    ask = \"yes\"\n",
    "    while ask != \"no\":\n",
    "        cust_input = input(\"What product would you like to order?: \")\n",
    "        customer_order.append(cust_input)\n",
    "        ask = input(\"Would you like to continue your order?, 'yes/no': \")\n",
    "    print()\n",
    "    #print(\"Thanks for your order, we will process your order as soon as possible.\")\n",
    "    \n",
    "    print()\n",
    "    \n",
    "    customer_orders = set(customer_order)\n",
    "    #print(\"Customer orders data is: \", customer_orders)\n",
    "    \n",
    "    \n",
    "    Total_Products_Ordered = len(customer_orders)\n",
    "    Percentage_of_Products_Ordered = Total_Products_Ordered/len(products) * 100\n",
    "    print(\"Total products ordered are: \", Total_Products_Ordered)\n",
    "    print(\"Percentage of products ordered are: \", Percentage_of_Products_Ordered)"
   ]
  },
  {
   "cell_type": "code",
   "execution_count": 21,
   "metadata": {
    "scrolled": false
   },
   "outputs": [
    {
     "name": "stdout",
     "output_type": "stream",
     "text": [
      "What product would you like to order?: Bag\n",
      "Would you like to continue your order?, 'yes/no': no\n",
      "\n",
      "Thanks for your order, we will process your order as soon as possible.\n",
      "\n",
      "Customer orders data is:  {'Bag'}\n"
     ]
    }
   ],
   "source": [
    "# Calling the function\n",
    "get_customer_orders()"
   ]
  },
  {
   "cell_type": "code",
   "execution_count": 22,
   "metadata": {},
   "outputs": [
    {
     "name": "stdout",
     "output_type": "stream",
     "text": [
      "What product would you like to order?: Bag\n",
      "Would you like to continue your order?, 'yes/no': no\n",
      "\n",
      "\n",
      "Total products ordered are:  1\n",
      "Percentage of products ordered are:  20.0\n"
     ]
    }
   ],
   "source": [
    "# Calling the function\n",
    "calculate_order_statistics(customer_orders,products)"
   ]
  },
  {
   "cell_type": "code",
   "execution_count": 53,
   "metadata": {},
   "outputs": [
    {
     "name": "stdout",
     "output_type": "stream",
     "text": [
      "What product would you like to order?: Computer monitor\n",
      "Would you like to continue your order?, 'yes/no': yes\n",
      "What product would you like to order?: Computer keyboard\n",
      "Would you like to continue your order?, 'yes/no': yes\n",
      "What product would you like to order?: Work table\n",
      "Would you like to continue your order?, 'yes/no': no\n",
      "\n",
      "\n"
     ]
    }
   ],
   "source": [
    "# Calculate and display order statstics\n",
    "products = [\"t-shirt\", \"mug\", \"hat\", \"book\", \"keychain\"]\n",
    "customer_order = []\n",
    "ask = \"yes\"\n",
    "while ask != \"no\":\n",
    "    cust_input = input(\"What product would you like to order?: \")\n",
    "    customer_order.append(cust_input)\n",
    "    ask = input(\"Would you like to continue your order?, 'yes/no': \")\n",
    "print()\n",
    "    #print(\"Thanks for your order, we will process your order as soon as possible.\")\n",
    "    \n",
    "print()\n",
    "    \n",
    "customer_orders = set(customer_order)\n",
    "    #print(\"Customer orders data is: \", customer_orders)\n",
    "    \n",
    "    \n",
    "Total_Products_Ordered = len(customer_orders)\n",
    "Percentage_of_Products_Ordered = Total_Products_Ordered/len(products) * 100\n",
    "order_statistics = \"Order statstics is:\", \"Sum\", Total_Products_Ordered, \"Percentage\", Percentage_of_Products_Ordered\n",
    "\n",
    "def print_order_statistics(order_statistics):\n",
    "    return order_statistics"
   ]
  },
  {
   "cell_type": "code",
   "execution_count": 54,
   "metadata": {},
   "outputs": [
    {
     "data": {
      "text/plain": [
       "('Order statstics is:', 'Sum', 3, 'Percentage', 60.0)"
      ]
     },
     "execution_count": 54,
     "metadata": {},
     "output_type": "execute_result"
    }
   ],
   "source": [
    "# DIsplay the statstics\n",
    "print_order_statistics(order_statistics)"
   ]
  },
  {
   "cell_type": "code",
   "execution_count": 43,
   "metadata": {},
   "outputs": [],
   "source": [
    "# update the inventory\n",
    "def print_updated_inventory(inventory):\n",
    "    customer_orders = []\n",
    "    products = [\"t-shirt\", \"mug\", \"hat\", \"book\", \"keychain\"]\n",
    "    for item in range(len(products)):\n",
    "        print(products[item])\n",
    "        input_ = int(input(\"Please enter the quantity for the above product: \"))\n",
    "        customer_orders.append(input_)\n",
    "    \n",
    "\n",
    "    inventory = {}\n",
    "    \n",
    "    for products,customer_orders in zip(products, customer_orders):\n",
    "        inventory[products] = customer_orders\n",
    "    \n",
    "    print(\"The customer orders: \", inventory)\n",
    "    inventory.popitem()\n",
    "    return inventory"
   ]
  },
  {
   "cell_type": "code",
   "execution_count": 44,
   "metadata": {
    "scrolled": true
   },
   "outputs": [
    {
     "name": "stdout",
     "output_type": "stream",
     "text": [
      "t-shirt\n",
      "Please enter the quantity for the above product: 1\n",
      "mug\n",
      "Please enter the quantity for the above product: 2\n",
      "hat\n",
      "Please enter the quantity for the above product: 3\n",
      "book\n",
      "Please enter the quantity for the above product: 4\n",
      "keychain\n",
      "Please enter the quantity for the above product: 5\n",
      "The customer orders:  {'t-shirt': 1, 'mug': 2, 'hat': 3, 'book': 4, 'keychain': 5}\n"
     ]
    },
    {
     "data": {
      "text/plain": [
       "{'t-shirt': 1, 'mug': 2, 'hat': 3, 'book': 4}"
      ]
     },
     "execution_count": 44,
     "metadata": {},
     "output_type": "execute_result"
    }
   ],
   "source": [
    "# Calling the function\n",
    "print_updated_inventory(inventory)"
   ]
  }
 ],
 "metadata": {
  "kernelspec": {
   "display_name": "Python 3",
   "language": "python",
   "name": "python3"
  },
  "language_info": {
   "codemirror_mode": {
    "name": "ipython",
    "version": 3
   },
   "file_extension": ".py",
   "mimetype": "text/x-python",
   "name": "python",
   "nbconvert_exporter": "python",
   "pygments_lexer": "ipython3",
   "version": "3.6.8"
  }
 },
 "nbformat": 4,
 "nbformat_minor": 5
}
